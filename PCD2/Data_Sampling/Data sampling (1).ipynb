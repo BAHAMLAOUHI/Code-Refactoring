{
 "cells": [
  {
   "cell_type": "code",
   "execution_count": 38,
   "id": "67a610ae",
   "metadata": {},
   "outputs": [],
   "source": [
    "import pandas as pd\n",
    "\n",
    "# Load the Excel file into a DataFrame\n",
    "excel_file_path = 'C:/Users/baha eddine/Desktop/PCD2/Multiphased_feature_selection/DS_feature_selection.xlsx'\n",
    "df = pd.read_excel(excel_file_path)"
   ]
  },
  {
   "cell_type": "code",
   "execution_count": 39,
   "id": "03b1ab8e",
   "metadata": {},
   "outputs": [],
   "source": [
    "import matplotlib.pyplot as plt\n",
    "import seaborn as sns\n",
    "def plot_countplot(feature):\n",
    "    plt.figure(figsize=(8, 6))\n",
    "    sns.countplot(x=feature)\n",
    "    plt.title('Countplot of {}'.format(feature.name))\n",
    "    plt.xlabel(feature.name)\n",
    "    plt.ylabel('Count')\n",
    "    plt.show()"
   ]
  },
  {
   "cell_type": "markdown",
   "id": "89cea386",
   "metadata": {},
   "source": [
    " # For illustration,\n",
    "let the total sample be 100. Then, in the random sampling method, five data samples are\n",
    "selected randomly (assuming that each element would have an equal probability of being\n",
    "identified as a refactoring class) from the total samples. In contrast, merely five samples\n",
    "from ninety-five non-refactoring samples are considered in downsampling.\n",
    "On the contrary, to perform upsampling, a small data element (say five) is extrapolated\n",
    "or augmented into the large scale (say, ninety-five to constitute one-hundred samples) nonrefactoring data samples."
   ]
  },
  {
   "cell_type": "markdown",
   "id": "abd523c6",
   "metadata": {},
   "source": [
    "So in other words: \n",
    " he takes every time 5% ( 5 samples) and 95% as (95 samples)"
   ]
  },
  {
   "cell_type": "code",
   "execution_count": 40,
   "id": "43b93f86",
   "metadata": {},
   "outputs": [
    {
     "name": "stdout",
     "output_type": "stream",
     "text": [
      "Number of samples in DataFrame: 4753\n"
     ]
    },
    {
     "data": {
      "text/plain": [
       "(4753, 25)"
      ]
     },
     "execution_count": 40,
     "metadata": {},
     "output_type": "execute_result"
    }
   ],
   "source": [
    "num_samples = len(df)\n",
    "print(\"Number of samples in DataFrame:\", num_samples)\n",
    "df.shape\n"
   ]
  },
  {
   "cell_type": "markdown",
   "id": "46b16b92",
   "metadata": {},
   "source": [
    "# Random Sampling"
   ]
  },
  {
   "cell_type": "code",
   "execution_count": 59,
   "id": "b0abe1f6",
   "metadata": {},
   "outputs": [
    {
     "name": "stdout",
     "output_type": "stream",
     "text": [
      "237.65\n"
     ]
    }
   ],
   "source": [
    "# Random Sampling\n",
    "n1=(num_samples*5)/100\n",
    "print(n1)\n",
    "n1=int(n1)\n",
    "random_sample = df.sample(n=n1)"
   ]
  },
  {
   "cell_type": "code",
   "execution_count": 60,
   "id": "cba7d75b",
   "metadata": {},
   "outputs": [
    {
     "name": "stdout",
     "output_type": "stream",
     "text": [
      "the number of refactoring samples is 8\n"
     ]
    }
   ],
   "source": [
    "yes_samples=len(random_sample[random_sample['Refact_Sum'] == 1])\n",
    "\n",
    "print(f'the number of refactoring samples is {yes_samples}')"
   ]
  },
  {
   "cell_type": "code",
   "execution_count": 61,
   "id": "b3fbe40e",
   "metadata": {},
   "outputs": [
    {
     "data": {
      "text/html": [
       "<div>\n",
       "<style scoped>\n",
       "    .dataframe tbody tr th:only-of-type {\n",
       "        vertical-align: middle;\n",
       "    }\n",
       "\n",
       "    .dataframe tbody tr th {\n",
       "        vertical-align: top;\n",
       "    }\n",
       "\n",
       "    .dataframe thead th {\n",
       "        text-align: right;\n",
       "    }\n",
       "</style>\n",
       "<table border=\"1\" class=\"dataframe\">\n",
       "  <thead>\n",
       "    <tr style=\"text-align: right;\">\n",
       "      <th></th>\n",
       "      <th>LCOM5</th>\n",
       "      <th>NL</th>\n",
       "      <th>NLE</th>\n",
       "      <th>WMC</th>\n",
       "      <th>CBO</th>\n",
       "      <th>CBOI</th>\n",
       "      <th>NII</th>\n",
       "      <th>NOI</th>\n",
       "      <th>RFC</th>\n",
       "      <th>CLOC</th>\n",
       "      <th>...</th>\n",
       "      <th>NLM</th>\n",
       "      <th>NLPM</th>\n",
       "      <th>NOS</th>\n",
       "      <th>TLLOC</th>\n",
       "      <th>TLOC</th>\n",
       "      <th>TNLG</th>\n",
       "      <th>TNLM</th>\n",
       "      <th>TNLPM</th>\n",
       "      <th>TNOS</th>\n",
       "      <th>Refact_Sum</th>\n",
       "    </tr>\n",
       "  </thead>\n",
       "  <tbody>\n",
       "    <tr>\n",
       "      <th>count</th>\n",
       "      <td>237.000000</td>\n",
       "      <td>237.000000</td>\n",
       "      <td>237.000000</td>\n",
       "      <td>237.000000</td>\n",
       "      <td>237.000000</td>\n",
       "      <td>237.000000</td>\n",
       "      <td>237.000000</td>\n",
       "      <td>237.000000</td>\n",
       "      <td>237.000000</td>\n",
       "      <td>237.000000</td>\n",
       "      <td>...</td>\n",
       "      <td>237.000000</td>\n",
       "      <td>237.000000</td>\n",
       "      <td>237.000000</td>\n",
       "      <td>237.000000</td>\n",
       "      <td>237.000000</td>\n",
       "      <td>237.000000</td>\n",
       "      <td>237.000000</td>\n",
       "      <td>237.000000</td>\n",
       "      <td>237.000000</td>\n",
       "      <td>237.000000</td>\n",
       "    </tr>\n",
       "    <tr>\n",
       "      <th>mean</th>\n",
       "      <td>1.848101</td>\n",
       "      <td>1.050633</td>\n",
       "      <td>0.978903</td>\n",
       "      <td>11.430380</td>\n",
       "      <td>4.978903</td>\n",
       "      <td>3.219409</td>\n",
       "      <td>3.898734</td>\n",
       "      <td>5.590717</td>\n",
       "      <td>11.067511</td>\n",
       "      <td>12.839662</td>\n",
       "      <td>...</td>\n",
       "      <td>5.476793</td>\n",
       "      <td>4.459916</td>\n",
       "      <td>37.843882</td>\n",
       "      <td>71.814346</td>\n",
       "      <td>97.489451</td>\n",
       "      <td>1.476793</td>\n",
       "      <td>6.995781</td>\n",
       "      <td>5.789030</td>\n",
       "      <td>42.362869</td>\n",
       "      <td>0.033755</td>\n",
       "    </tr>\n",
       "    <tr>\n",
       "      <th>std</th>\n",
       "      <td>3.133020</td>\n",
       "      <td>1.398232</td>\n",
       "      <td>1.219361</td>\n",
       "      <td>28.042349</td>\n",
       "      <td>10.555522</td>\n",
       "      <td>9.394957</td>\n",
       "      <td>14.162132</td>\n",
       "      <td>20.288314</td>\n",
       "      <td>27.522173</td>\n",
       "      <td>39.136328</td>\n",
       "      <td>...</td>\n",
       "      <td>8.620807</td>\n",
       "      <td>7.505611</td>\n",
       "      <td>201.596396</td>\n",
       "      <td>260.464138</td>\n",
       "      <td>339.302520</td>\n",
       "      <td>4.086523</td>\n",
       "      <td>12.727089</td>\n",
       "      <td>11.409825</td>\n",
       "      <td>214.343467</td>\n",
       "      <td>0.180981</td>\n",
       "    </tr>\n",
       "    <tr>\n",
       "      <th>min</th>\n",
       "      <td>0.000000</td>\n",
       "      <td>0.000000</td>\n",
       "      <td>0.000000</td>\n",
       "      <td>0.000000</td>\n",
       "      <td>0.000000</td>\n",
       "      <td>0.000000</td>\n",
       "      <td>0.000000</td>\n",
       "      <td>0.000000</td>\n",
       "      <td>0.000000</td>\n",
       "      <td>0.000000</td>\n",
       "      <td>...</td>\n",
       "      <td>0.000000</td>\n",
       "      <td>0.000000</td>\n",
       "      <td>0.000000</td>\n",
       "      <td>2.000000</td>\n",
       "      <td>3.000000</td>\n",
       "      <td>0.000000</td>\n",
       "      <td>0.000000</td>\n",
       "      <td>0.000000</td>\n",
       "      <td>0.000000</td>\n",
       "      <td>0.000000</td>\n",
       "    </tr>\n",
       "    <tr>\n",
       "      <th>25%</th>\n",
       "      <td>1.000000</td>\n",
       "      <td>0.000000</td>\n",
       "      <td>0.000000</td>\n",
       "      <td>1.000000</td>\n",
       "      <td>1.000000</td>\n",
       "      <td>0.000000</td>\n",
       "      <td>0.000000</td>\n",
       "      <td>0.000000</td>\n",
       "      <td>2.000000</td>\n",
       "      <td>0.000000</td>\n",
       "      <td>...</td>\n",
       "      <td>1.000000</td>\n",
       "      <td>1.000000</td>\n",
       "      <td>2.000000</td>\n",
       "      <td>10.000000</td>\n",
       "      <td>12.000000</td>\n",
       "      <td>0.000000</td>\n",
       "      <td>1.000000</td>\n",
       "      <td>1.000000</td>\n",
       "      <td>2.000000</td>\n",
       "      <td>0.000000</td>\n",
       "    </tr>\n",
       "    <tr>\n",
       "      <th>50%</th>\n",
       "      <td>1.000000</td>\n",
       "      <td>1.000000</td>\n",
       "      <td>1.000000</td>\n",
       "      <td>5.000000</td>\n",
       "      <td>3.000000</td>\n",
       "      <td>1.000000</td>\n",
       "      <td>0.000000</td>\n",
       "      <td>1.000000</td>\n",
       "      <td>5.000000</td>\n",
       "      <td>3.000000</td>\n",
       "      <td>...</td>\n",
       "      <td>3.000000</td>\n",
       "      <td>2.000000</td>\n",
       "      <td>9.000000</td>\n",
       "      <td>28.000000</td>\n",
       "      <td>37.000000</td>\n",
       "      <td>0.000000</td>\n",
       "      <td>3.000000</td>\n",
       "      <td>3.000000</td>\n",
       "      <td>10.000000</td>\n",
       "      <td>0.000000</td>\n",
       "    </tr>\n",
       "    <tr>\n",
       "      <th>75%</th>\n",
       "      <td>2.000000</td>\n",
       "      <td>2.000000</td>\n",
       "      <td>2.000000</td>\n",
       "      <td>11.000000</td>\n",
       "      <td>5.000000</td>\n",
       "      <td>2.000000</td>\n",
       "      <td>2.000000</td>\n",
       "      <td>5.000000</td>\n",
       "      <td>11.000000</td>\n",
       "      <td>10.000000</td>\n",
       "      <td>...</td>\n",
       "      <td>6.000000</td>\n",
       "      <td>5.000000</td>\n",
       "      <td>25.000000</td>\n",
       "      <td>65.000000</td>\n",
       "      <td>86.000000</td>\n",
       "      <td>2.000000</td>\n",
       "      <td>7.000000</td>\n",
       "      <td>6.000000</td>\n",
       "      <td>33.000000</td>\n",
       "      <td>0.000000</td>\n",
       "    </tr>\n",
       "    <tr>\n",
       "      <th>max</th>\n",
       "      <td>34.000000</td>\n",
       "      <td>8.000000</td>\n",
       "      <td>5.000000</td>\n",
       "      <td>323.000000</td>\n",
       "      <td>124.000000</td>\n",
       "      <td>115.000000</td>\n",
       "      <td>137.000000</td>\n",
       "      <td>223.000000</td>\n",
       "      <td>299.000000</td>\n",
       "      <td>452.000000</td>\n",
       "      <td>...</td>\n",
       "      <td>76.000000</td>\n",
       "      <td>67.000000</td>\n",
       "      <td>3036.000000</td>\n",
       "      <td>3785.000000</td>\n",
       "      <td>4888.000000</td>\n",
       "      <td>42.000000</td>\n",
       "      <td>105.000000</td>\n",
       "      <td>93.000000</td>\n",
       "      <td>3207.000000</td>\n",
       "      <td>1.000000</td>\n",
       "    </tr>\n",
       "  </tbody>\n",
       "</table>\n",
       "<p>8 rows × 25 columns</p>\n",
       "</div>"
      ],
      "text/plain": [
       "            LCOM5          NL         NLE         WMC         CBO        CBOI  \\\n",
       "count  237.000000  237.000000  237.000000  237.000000  237.000000  237.000000   \n",
       "mean     1.848101    1.050633    0.978903   11.430380    4.978903    3.219409   \n",
       "std      3.133020    1.398232    1.219361   28.042349   10.555522    9.394957   \n",
       "min      0.000000    0.000000    0.000000    0.000000    0.000000    0.000000   \n",
       "25%      1.000000    0.000000    0.000000    1.000000    1.000000    0.000000   \n",
       "50%      1.000000    1.000000    1.000000    5.000000    3.000000    1.000000   \n",
       "75%      2.000000    2.000000    2.000000   11.000000    5.000000    2.000000   \n",
       "max     34.000000    8.000000    5.000000  323.000000  124.000000  115.000000   \n",
       "\n",
       "              NII         NOI         RFC        CLOC  ...         NLM  \\\n",
       "count  237.000000  237.000000  237.000000  237.000000  ...  237.000000   \n",
       "mean     3.898734    5.590717   11.067511   12.839662  ...    5.476793   \n",
       "std     14.162132   20.288314   27.522173   39.136328  ...    8.620807   \n",
       "min      0.000000    0.000000    0.000000    0.000000  ...    0.000000   \n",
       "25%      0.000000    0.000000    2.000000    0.000000  ...    1.000000   \n",
       "50%      0.000000    1.000000    5.000000    3.000000  ...    3.000000   \n",
       "75%      2.000000    5.000000   11.000000   10.000000  ...    6.000000   \n",
       "max    137.000000  223.000000  299.000000  452.000000  ...   76.000000   \n",
       "\n",
       "             NLPM          NOS        TLLOC         TLOC        TNLG  \\\n",
       "count  237.000000   237.000000   237.000000   237.000000  237.000000   \n",
       "mean     4.459916    37.843882    71.814346    97.489451    1.476793   \n",
       "std      7.505611   201.596396   260.464138   339.302520    4.086523   \n",
       "min      0.000000     0.000000     2.000000     3.000000    0.000000   \n",
       "25%      1.000000     2.000000    10.000000    12.000000    0.000000   \n",
       "50%      2.000000     9.000000    28.000000    37.000000    0.000000   \n",
       "75%      5.000000    25.000000    65.000000    86.000000    2.000000   \n",
       "max     67.000000  3036.000000  3785.000000  4888.000000   42.000000   \n",
       "\n",
       "             TNLM       TNLPM         TNOS  Refact_Sum  \n",
       "count  237.000000  237.000000   237.000000  237.000000  \n",
       "mean     6.995781    5.789030    42.362869    0.033755  \n",
       "std     12.727089   11.409825   214.343467    0.180981  \n",
       "min      0.000000    0.000000     0.000000    0.000000  \n",
       "25%      1.000000    1.000000     2.000000    0.000000  \n",
       "50%      3.000000    3.000000    10.000000    0.000000  \n",
       "75%      7.000000    6.000000    33.000000    0.000000  \n",
       "max    105.000000   93.000000  3207.000000    1.000000  \n",
       "\n",
       "[8 rows x 25 columns]"
      ]
     },
     "execution_count": 61,
     "metadata": {},
     "output_type": "execute_result"
    }
   ],
   "source": [
    "random_sample.describe()\n"
   ]
  },
  {
   "cell_type": "code",
   "execution_count": 62,
   "id": "173fcb83",
   "metadata": {},
   "outputs": [
    {
     "data": {
      "image/png": "[encoded data removed]",
      "text/plain": [
       "<Figure size 800x600 with 1 Axes>"
      ]
     },
     "metadata": {},
     "output_type": "display_data"
    }
   ],
   "source": [
    "plot_countplot(random_sample['Refact_Sum'])\n"
   ]
  },
  {
   "cell_type": "code",
   "execution_count": 63,
   "id": "13b745d9",
   "metadata": {},
   "outputs": [],
   "source": [
    "# Save the DataFrame to an Excel file \n",
    "df.to_excel('C:/Users/baha eddine/Desktop/PCD2/Data_sampling/Random_sampling.xlsx', index=False)"
   ]
  },
  {
   "cell_type": "markdown",
   "id": "cdafa8f6",
   "metadata": {},
   "source": [
    "#  DownSampling\n",
    "In summary, this code section is downsampling the non-refactoring samples by randomly selecting 5% (n1) samples from the non-refactoring samples and then concatenating them with all the refactoring samples to create a balanced dataset."
   ]
  },
  {
   "cell_type": "code",
   "execution_count": 64,
   "id": "df8feea6",
   "metadata": {},
   "outputs": [
    {
     "data": {
      "text/plain": [
       "(312, 25)"
      ]
     },
     "execution_count": 64,
     "metadata": {},
     "output_type": "execute_result"
    }
   ],
   "source": [
    "# Downsampling\n",
    "refactoring_samples = df[df['Refact_Sum'] == 1]\n",
    "non_refactoring_samples = df[df['Refact_Sum'] != 1]\n",
    "downsampled_non_refactoring = non_refactoring_samples.sample(n=n1)\n",
    "downsampled_df = pd.concat([refactoring_samples, downsampled_non_refactoring])\n",
    "downsampled_df.shape"
   ]
  },
  {
   "cell_type": "code",
   "execution_count": 67,
   "id": "705a4bd3",
   "metadata": {},
   "outputs": [
    {
     "name": "stdout",
     "output_type": "stream",
     "text": [
      "the number of refactoring samples is 75\n"
     ]
    }
   ],
   "source": [
    "yes_samples=len(downsampled_df[downsampled_df['Refact_Sum'] == 1])\n",
    "\n",
    "print(f'the number of refactoring samples is {yes_samples}')"
   ]
  },
  {
   "cell_type": "code",
   "execution_count": 68,
   "id": "be35f669",
   "metadata": {},
   "outputs": [
    {
     "data": {
      "image/png": "[encoded data removed]",
      "text/plain": [
       "<Figure size 800x600 with 1 Axes>"
      ]
     },
     "metadata": {},
     "output_type": "display_data"
    }
   ],
   "source": [
    "plot_countplot(downsampled_df['Refact_Sum'])\n"
   ]
  },
  {
   "cell_type": "code",
   "execution_count": 69,
   "id": "446c86d5",
   "metadata": {},
   "outputs": [],
   "source": [
    "# Save the DataFrame to an Excel file \n",
    "downsampled_df.to_excel('C:/Users/baha eddine/Desktop/PCD2/Data_sampling/down_sampling.xlsx', index=False)"
   ]
  },
  {
   "cell_type": "markdown",
   "id": "f8b488d4",
   "metadata": {},
   "source": [
    "# Upsampling\n",
    "this code section is upsampling the non-refactoring samples by randomly selecting samples with replacement from the non-refactoring samples until the number of selected samples matches the count of refactoring samples. Then, it concatenates the refactoring samples with the upsampled non-refactoring samples to create a balanced dataset."
   ]
  },
  {
   "cell_type": "code",
   "execution_count": 70,
   "id": "bf59824a",
   "metadata": {},
   "outputs": [
    {
     "data": {
      "text/plain": [
       "(150, 25)"
      ]
     },
     "execution_count": 70,
     "metadata": {},
     "output_type": "execute_result"
    }
   ],
   "source": [
    "# Upsampling\n",
    "refactoring_count = refactoring_samples.shape[0]\n",
    "non_refactoring_count = non_refactoring_samples.shape[0]\n",
    "upsampled_non_refactoring = non_refactoring_samples.sample(n=refactoring_count, replace=True)\n",
    "upsampled_df = pd.concat([refactoring_samples, upsampled_non_refactoring])\n",
    "upsampled_df.shape"
   ]
  },
  {
   "cell_type": "code",
   "execution_count": 71,
   "id": "7587550a",
   "metadata": {},
   "outputs": [
    {
     "name": "stdout",
     "output_type": "stream",
     "text": [
      "the number of refactoring samples is 75\n"
     ]
    }
   ],
   "source": [
    "yes_samples=len(upsampled_df[upsampled_df['Refact_Sum'] == 1])\n",
    "\n",
    "print(f'the number of refactoring samples is {yes_samples}')"
   ]
  },
  {
   "cell_type": "code",
   "execution_count": 72,
   "id": "74ac39f5",
   "metadata": {},
   "outputs": [
    {
     "data": {
      "image/png": "[encoded data removed]",
      "text/plain": [
       "<Figure size 800x600 with 1 Axes>"
      ]
     },
     "metadata": {},
     "output_type": "display_data"
    }
   ],
   "source": [
    "plot_countplot(upsampled_df['Refact_Sum'])\n"
   ]
  },
  {
   "cell_type": "code",
   "execution_count": 73,
   "id": "0718c71a",
   "metadata": {},
   "outputs": [],
   "source": [
    "# Save the DataFrame to an Excel file \n",
    "upsampled_df.to_excel('C:/Users/baha eddine/Desktop/PCD2/Data_sampling/Up_sampling.xlsx', index=False)"
   ]
  },
  {
   "cell_type": "markdown",
   "id": "bf1d3c8e",
   "metadata": {},
   "source": [
    "# then we need to combine all of the 4 datasets to obtain our final DS"
   ]
  },
  {
   "cell_type": "code",
   "execution_count": 75,
   "id": "96c3e700",
   "metadata": {},
   "outputs": [
    {
     "data": {
      "text/plain": [
       "(5452, 25)"
      ]
     },
     "execution_count": 75,
     "metadata": {},
     "output_type": "execute_result"
    }
   ],
   "source": [
    "# Combine the DataFrames\n",
    "combined_df = pd.concat([upsampled_df, downsampled_df, random_sample, df], ignore_index=True)\n",
    "\n",
    "combined_df.shape"
   ]
  },
  {
   "cell_type": "markdown",
   "id": "e208939e",
   "metadata": {},
   "source": [
    "Our original df:"
   ]
  },
  {
   "cell_type": "code",
   "execution_count": 76,
   "id": "7778fe97",
   "metadata": {},
   "outputs": [
    {
     "data": {
      "image/png": "[encoded data removed]",
      "text/plain": [
       "<Figure size 800x600 with 1 Axes>"
      ]
     },
     "metadata": {},
     "output_type": "display_data"
    }
   ],
   "source": [
    "plot_countplot(df['Refact_Sum'])"
   ]
  },
  {
   "cell_type": "markdown",
   "id": "25a37289",
   "metadata": {},
   "source": [
    "after data_sampling:"
   ]
  },
  {
   "cell_type": "code",
   "execution_count": 77,
   "id": "7c137a22",
   "metadata": {},
   "outputs": [
    {
     "data": {
      "image/png": "[encoded data removed]",
      "text/plain": [
       "<Figure size 800x600 with 1 Axes>"
      ]
     },
     "metadata": {},
     "output_type": "display_data"
    }
   ],
   "source": [
    "plot_countplot(combined_df['Refact_Sum'])"
   ]
  },
  {
   "cell_type": "code",
   "execution_count": 78,
   "id": "aff52539",
   "metadata": {},
   "outputs": [],
   "source": [
    "# Save the DataFrame to an Excel file \n",
    "combined_df.to_excel('C:/Users/baha eddine/Desktop/PCD2/Data_sampling/finalData_sampling.xlsx', index=False)"
   ]
  },
  {
   "cell_type": "code",
   "execution_count": 1,
   "id": "dc993ad4",
   "metadata": {},
   "outputs": [
    {
     "name": "stdout",
     "output_type": "stream",
     "text": [
      "Collecting imblearn\n",
      "  Downloading imblearn-0.0-py2.py3-none-any.whl (1.9 kB)\n",
      "Requirement already satisfied: imbalanced-learn in c:\\users\\baha eddine\\anaconda3\\lib\\site-packages (from imblearn) (0.10.1)\n",
      "Requirement already satisfied: numpy>=1.17.3 in c:\\users\\baha eddine\\anaconda3\\lib\\site-packages (from imbalanced-learn->imblearn) (1.24.3)\n",
      "Requirement already satisfied: scipy>=1.3.2 in c:\\users\\baha eddine\\anaconda3\\lib\\site-packages (from imbalanced-learn->imblearn) (1.11.1)\n",
      "Requirement already satisfied: scikit-learn>=1.0.2 in c:\\users\\baha eddine\\anaconda3\\lib\\site-packages (from imbalanced-learn->imblearn) (1.3.0)\n",
      "Requirement already satisfied: joblib>=1.1.1 in c:\\users\\baha eddine\\anaconda3\\lib\\site-packages (from imbalanced-learn->imblearn) (1.2.0)\n",
      "Requirement already satisfied: threadpoolctl>=2.0.0 in c:\\users\\baha eddine\\anaconda3\\lib\\site-packages (from imbalanced-learn->imblearn) (2.2.0)\n",
      "Installing collected packages: imblearn\n",
      "Successfully installed imblearn-0.0\n"
     ]
    }
   ],
   "source": [
    "!pip install imblearn\n"
   ]
  },
  {
   "cell_type": "code",
   "execution_count": null,
   "id": "5fa0c127",
   "metadata": {},
   "outputs": [],
   "source": []
  }
 ],
 "metadata": {
  "kernelspec": {
   "display_name": "Python 3 (ipykernel)",
   "language": "python",
   "name": "python3"
  },
  "language_info": {
   "codemirror_mode": {
    "name": "ipython",
    "version": 3
   },
   "file_extension": ".py",
   "mimetype": "text/x-python",
   "name": "python",
   "nbconvert_exporter": "python",
   "pygments_lexer": "ipython3",
   "version": "3.11.5"
  }
 },
 "nbformat": 4,
 "nbformat_minor": 5
}
