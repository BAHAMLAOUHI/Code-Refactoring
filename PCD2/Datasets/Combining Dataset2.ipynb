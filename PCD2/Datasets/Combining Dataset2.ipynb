{
 "cells": [
  {
   "cell_type": "code",
   "execution_count": 1,
   "id": "9df52cbf",
   "metadata": {},
   "outputs": [],
   "source": [
    "import pandas as pd\n"
   ]
  },
  {
   "cell_type": "markdown",
   "id": "9f88aa5b",
   "metadata": {},
   "source": [
    "# importing the different Datasets"
   ]
  },
  {
   "cell_type": "code",
   "execution_count": 2,
   "id": "b4a05ac1",
   "metadata": {},
   "outputs": [],
   "source": [
    "df1 = pd.read_excel('C:/Users/baha eddine/Desktop/PCD2/Datasets/antlr4.xlsx')\n",
    "df2 = pd.read_excel('C:/Users/baha eddine/Desktop/PCD2/Datasets/junit.xlsx')\n",
    "df3 = pd.read_excel('C:/Users/baha eddine/Desktop/PCD2/Datasets/mct.xlsx')\n",
    "df4 = pd.read_excel('C:/Users/baha eddine/Desktop/PCD2/Datasets/oryx.xlsx')\n",
    "df5 = pd.read_excel('C:/Users/baha eddine/Desktop/PCD2/Datasets/titan.xlsx')"
   ]
  },
  {
   "cell_type": "code",
   "execution_count": 4,
   "id": "bbad3845",
   "metadata": {
    "scrolled": true
   },
   "outputs": [
    {
     "name": "stdout",
     "output_type": "stream",
     "text": [
      "<class 'pandas.core.frame.DataFrame'>\n",
      "RangeIndex: 408 entries, 0 to 407\n",
      "Columns: 241 entries, ID to RMIDiff\n",
      "dtypes: int64(220), object(21)\n",
      "memory usage: 768.3+ KB\n",
      "None\n",
      "<class 'pandas.core.frame.DataFrame'>\n",
      "RangeIndex: 655 entries, 0 to 654\n",
      "Columns: 241 entries, ID to RMIDiff\n",
      "dtypes: int64(220), object(21)\n",
      "memory usage: 1.2+ MB\n",
      "None\n",
      "<class 'pandas.core.frame.DataFrame'>\n",
      "RangeIndex: 2028 entries, 0 to 2027\n",
      "Columns: 241 entries, ID to RMIDiff\n",
      "dtypes: int64(220), object(21)\n",
      "memory usage: 3.7+ MB\n",
      "None\n",
      "<class 'pandas.core.frame.DataFrame'>\n",
      "RangeIndex: 504 entries, 0 to 503\n",
      "Columns: 241 entries, ID to RMIDiff\n",
      "dtypes: int64(220), object(21)\n",
      "memory usage: 949.1+ KB\n",
      "None\n",
      "<class 'pandas.core.frame.DataFrame'>\n",
      "RangeIndex: 1158 entries, 0 to 1157\n",
      "Columns: 241 entries, ID to RMIDiff\n",
      "dtypes: int64(220), object(21)\n",
      "memory usage: 2.1+ MB\n",
      "None\n"
     ]
    }
   ],
   "source": [
    "print(df1.info())\n",
    "print(df2.info())\n",
    "print(df3.info())\n",
    "print(df4.info())\n",
    "print(df5.info())"
   ]
  },
  {
   "cell_type": "markdown",
   "id": "ce87fd9c",
   "metadata": {},
   "source": [
    "# Combining the datasets into one"
   ]
  },
  {
   "cell_type": "code",
   "execution_count": 5,
   "id": "28e467dc",
   "metadata": {},
   "outputs": [],
   "source": [
    "# Concatenate DataFrames, handling differences in features\n",
    "combined_df = pd.concat([df1, df2, df3, df4, df5], ignore_index=True)"
   ]
  },
  {
   "cell_type": "markdown",
   "id": "28e891ce",
   "metadata": {},
   "source": [
    "# We will verify if all the datasets had the same features ( metrics) or not\n",
    "\n",
    "# Rq : if there is some different features pd.concat() will automatically replaces the missing values of the other features by NaN"
   ]
  },
  {
   "cell_type": "code",
   "execution_count": 6,
   "id": "2b81d24a",
   "metadata": {},
   "outputs": [],
   "source": [
    "# Check for NaN values\n",
    "nan_values = combined_df.isna().sum()"
   ]
  },
  {
   "cell_type": "code",
   "execution_count": 7,
   "id": "eca106dd",
   "metadata": {},
   "outputs": [
    {
     "name": "stdout",
     "output_type": "stream",
     "text": [
      "NaN Values in Combined DataFrame:\n",
      "ID            0\n",
      "Name          0\n",
      "LongName      0\n",
      "Parent        0\n",
      "Component     0\n",
      "             ..\n",
      "MOVE_FIELD    0\n",
      "Refact_Sum    0\n",
      "PrevRMI       0\n",
      "RMI           0\n",
      "RMIDiff       0\n",
      "Length: 241, dtype: int64\n"
     ]
    }
   ],
   "source": [
    "# Display the count of NaN values for each column\n",
    "print(\"NaN Values in Combined DataFrame:\")\n",
    "print(nan_values)"
   ]
  },
  {
   "cell_type": "markdown",
   "id": "68febe9c",
   "metadata": {},
   "source": [
    "# Now we have One combined Dataset \n",
    "\n",
    "# we will work with this data set after the data cleaning phase for the multi-phased feature selection "
   ]
  },
  {
   "cell_type": "code",
   "execution_count": 8,
   "id": "60f89ff0",
   "metadata": {},
   "outputs": [],
   "source": [
    "# Save the combined DataFrame to an Excel file\n",
    "combined_df.to_excel('C:/Users/baha eddine/Desktop/PCD2/Datasets/CombinedDS.xlsx', index=False)"
   ]
  },
  {
   "cell_type": "code",
   "execution_count": null,
   "id": "cc40ce0b",
   "metadata": {},
   "outputs": [],
   "source": []
  }
 ],
 "metadata": {
  "kernelspec": {
   "display_name": "Python 3 (ipykernel)",
   "language": "python",
   "name": "python3"
  },
  "language_info": {
   "codemirror_mode": {
    "name": "ipython",
    "version": 3
   },
   "file_extension": ".py",
   "mimetype": "text/x-python",
   "name": "python",
   "nbconvert_exporter": "python",
   "pygments_lexer": "ipython3",
   "version": "3.11.5"
  }
 },
 "nbformat": 4,
 "nbformat_minor": 5
}
